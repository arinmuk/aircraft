{
 "cells": [
  {
   "cell_type": "code",
   "execution_count": 2,
   "metadata": {},
   "outputs": [],
   "source": [
    "import pandas as pd\n",
    "import pyodbc as pyodbc\n",
    "import pymssql\n",
    "import pymssql\n",
    "import pymongo\n",
    "import csv\n",
    "import json\n",
    "from pymongo import MongoClient\n",
    "from flask import Flask, jsonify, render_template\n",
    "client = MongoClient()\n",
    "client = MongoClient('localhost', 27017)\n",
    "#from Pymongo import MongoClient\n",
    "#import mysql as mysql"
   ]
  },
  {
   "cell_type": "code",
   "execution_count": null,
   "metadata": {},
   "outputs": [],
   "source": []
  }
 ],
 "metadata": {
  "kernelspec": {
   "display_name": "Python 3",
   "language": "python",
   "name": "python3"
  },
  "language_info": {
   "codemirror_mode": {
    "name": "ipython",
    "version": 3
   },
   "file_extension": ".py",
   "mimetype": "text/x-python",
   "name": "python",
   "nbconvert_exporter": "python",
   "pygments_lexer": "ipython3",
   "version": "3.7.1"
  }
 },
 "nbformat": 4,
 "nbformat_minor": 2
}
